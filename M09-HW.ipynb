{
 "cells": [
  {
   "cell_type": "markdown",
   "id": "bbea800c-241d-42b4-a744-ecaffe13959e",
   "metadata": {},
   "source": [
    "# Metadata\n",
    "\n",
    "```yaml\n",
    "Course:  DS 5100\n",
    "Module:  09 Python Packages\n",
    "Topic:   HW Package Booklover\n",
    "Author:  R.C. Alvarado (adapted)\n",
    "Date:    7 July 2023 (revised)\n",
    "```"
   ]
  },
  {
   "cell_type": "markdown",
   "id": "36f46fdd-2405-4dc8-9ea1-33f395e56cc0",
   "metadata": {},
   "source": [
    "# Student Info\n",
    "\n",
    "* Name: Devlin Bridges\n",
    "* Net UD: cbv6gd\n",
    "* URL of this file in GitHub: https://github.com/DevlinBridges/Book-Lover/blob/main/M09-HW.ipynb"
   ]
  },
  {
   "cell_type": "markdown",
   "id": "1baf08dc-35fe-44f1-bc26-7e1130ee993e",
   "metadata": {},
   "source": [
    "# Overview\n",
    "\n",
    "Follow the following recipe we used in class to package the code you wrote for `HW08` -- `booklover.py` and `booklover_test.py`.\n",
    "\n",
    "* Create a new git repo for your package.\n",
    "* Create and edit the required files and directories for your package and move the booklover modules there.\n",
    "* Stage, commit, and push all the files you've created.\n",
    "* Install your package with pip.\n",
    "* Outside of your package dir, write a script to test your method.\n",
    "\n",
    "Put this notebook in your repo. This will allow you to execute bash commands and capture the outpunt directly in the notebook.\n",
    "\n",
    "**TOTAL: 8 POINTS**"
   ]
  },
  {
   "cell_type": "markdown",
   "id": "6e39ba79-49ee-41e8-9e49-23d9d6bac2e0",
   "metadata": {
    "tags": []
   },
   "source": [
    "# Tasks"
   ]
  },
  {
   "cell_type": "markdown",
   "id": "fb11de14",
   "metadata": {},
   "source": [
    "## Task 1\n",
    "\n",
    "(5 points)\n",
    "\n",
    "Show the directory structure of your repo by running this command from the root of your repo:"
   ]
  },
  {
   "cell_type": "code",
   "execution_count": 12,
   "id": "7e6c6607",
   "metadata": {},
   "outputs": [
    {
     "name": "stdout",
     "output_type": "stream",
     "text": [
      ".:\n",
      "total 44\n",
      "drwx--S--- 4 cbv6gd users  2560 Mar 28 14:05 booklover\n",
      "drwx--S--- 2 cbv6gd users  2048 Mar 28 14:12 BookLover.egg-info\n",
      "drwx--S--- 4 cbv6gd users  1024 Mar 28 13:58 build\n",
      "-rw------- 1 cbv6gd users  1063 Mar 28 13:46 LICENSE\n",
      "-rw------- 1 cbv6gd users 10013 Mar 28 14:12 M09-HW.ipynb\n",
      "-rw------- 1 cbv6gd users    67 Mar 28 13:46 README.md\n",
      "-rw------- 1 cbv6gd users   390 Mar 28 13:46 setup.py\n",
      "-rw------- 1 cbv6gd users    72 Mar 28 13:59 Untitled.ipynb\n",
      "\n",
      "./booklover:\n",
      "total 24\n",
      "-rw------- 1 cbv6gd users 1420 Mar 28 13:48 booklover.py\n",
      "-rw------- 1 cbv6gd users 2789 Mar 28 13:48 booklover_test.py\n",
      "-rw------- 1 cbv6gd users   32 Mar 28 14:05 __init__.py\n",
      "drwx--S--- 2 cbv6gd users 1024 Mar 28 14:05 __pycache__\n",
      "\n",
      "./booklover/__pycache__:\n",
      "total 12\n",
      "-rw------- 1 cbv6gd users 2600 Mar 28 13:59 booklover.cpython-311.pyc\n",
      "-rw------- 1 cbv6gd users  223 Mar 28 14:05 __init__.cpython-311.pyc\n",
      "\n",
      "./BookLover.egg-info:\n",
      "total 16\n",
      "-rw------- 1 cbv6gd users   1 Mar 28 14:12 dependency_links.txt\n",
      "-rw------- 1 cbv6gd users 313 Mar 28 14:12 PKG-INFO\n",
      "-rw------- 1 cbv6gd users 231 Mar 28 14:12 SOURCES.txt\n",
      "-rw------- 1 cbv6gd users  10 Mar 28 14:12 top_level.txt\n",
      "\n",
      "./build:\n",
      "total 8\n",
      "drwx--S--- 2 cbv6gd users   0 Mar 28 13:58 bdist.linux-x86_64\n",
      "drwx--S--- 3 cbv6gd users 512 Mar 28 13:58 lib\n",
      "\n",
      "./build/bdist.linux-x86_64:\n",
      "total 0\n",
      "\n",
      "./build/lib:\n",
      "total 4\n",
      "drwx--S--- 2 cbv6gd users 1536 Mar 28 13:58 booklover\n",
      "\n",
      "./build/lib/booklover:\n",
      "total 20\n",
      "-rw------- 1 cbv6gd users 1420 Mar 28 13:48 booklover.py\n",
      "-rw------- 1 cbv6gd users 2789 Mar 28 13:48 booklover_test.py\n",
      "-rw------- 1 cbv6gd users   32 Mar 28 13:54 __init__.py\n"
     ]
    }
   ],
   "source": [
    "!ls -lR"
   ]
  },
  {
   "cell_type": "markdown",
   "id": "6b6f288b-05aa-441b-8c73-84b50b3b6844",
   "metadata": {},
   "source": [
    "## Task 2\n",
    "\n",
    "(1 point)\n",
    "\n",
    "Put the URL of your GitHub repo here. Just paste it into a Markdown cell."
   ]
  },
  {
   "cell_type": "markdown",
   "id": "4d09d889-6104-4f20-b31c-2d8a72b17693",
   "metadata": {},
   "source": [
    "URL: https://github.com/DevlinBridges/Book-Lover"
   ]
  },
  {
   "cell_type": "markdown",
   "id": "f989dcd1-b1d2-4eb9-8ef6-8ca2d8495260",
   "metadata": {
    "lines_to_next_cell": 0
   },
   "source": [
    "## Task 3\n",
    "\n",
    "(1 point)\n",
    "\n",
    "Show the results of installing your package.\n",
    "\n",
    "```bash\n",
    "!pip install -e .\n",
    "```"
   ]
  },
  {
   "cell_type": "code",
   "execution_count": 11,
   "id": "355275ae-63d5-4669-927f-8778b11fc5e5",
   "metadata": {},
   "outputs": [
    {
     "name": "stdout",
     "output_type": "stream",
     "text": [
      "Defaulting to user installation because normal site-packages is not writeable\n",
      "Obtaining file:///sfs/qumulo/qhome/cbv6gd/Book-Lover\n",
      "  Preparing metadata (setup.py) ... \u001b[?25ldone\n",
      "\u001b[?25hInstalling collected packages: BookLover\n",
      "  Attempting uninstall: BookLover\n",
      "    Found existing installation: BookLover 1.0.0\n",
      "    Uninstalling BookLover-1.0.0:\n",
      "      Successfully uninstalled BookLover-1.0.0\n",
      "  Running setup.py develop for BookLover\n",
      "Successfully installed BookLover-1.0.0\n"
     ]
    }
   ],
   "source": [
    "!pip install -e ."
   ]
  },
  {
   "cell_type": "markdown",
   "id": "5b1a642e-74f0-43ff-97a3-9ddc7553978e",
   "metadata": {},
   "source": [
    "## Task 4\n",
    "\n",
    "(1 point)\n",
    "\n",
    "Create a file outside your repo to test your package by running it.\n",
    "\n",
    "To do this, import the package into your file and create a BookLover object.\n",
    "\n",
    "Then add a book and then print number books read.\n",
    "\n",
    "Then run the file. \n",
    "\n",
    "Show the output of running the file below, using a command like the following:\n",
    "\n",
    "```bash\n",
    "!python ../book_lover_demo.py\n",
    "```"
   ]
  },
  {
   "cell_type": "code",
   "execution_count": 23,
   "id": "5924fca8-6483-4f2b-a33f-6550d1726d6e",
   "metadata": {},
   "outputs": [
    {
     "name": "stdout",
     "output_type": "stream",
     "text": [
      "1\n"
     ]
    }
   ],
   "source": [
    "!python ./book_lover_demo.py"
   ]
  }
 ],
 "metadata": {
  "jupytext": {
   "cell_metadata_filter": "-all",
   "main_language": "bash",
   "notebook_metadata_filter": "-all"
  },
  "kernelspec": {
   "display_name": "Python 3 (ipykernel)",
   "language": "python",
   "name": "python3"
  },
  "language_info": {
   "codemirror_mode": {
    "name": "ipython",
    "version": 3
   },
   "file_extension": ".py",
   "mimetype": "text/x-python",
   "name": "python",
   "nbconvert_exporter": "python",
   "pygments_lexer": "ipython3",
   "version": "3.11.4"
  },
  "vscode": {
   "interpreter": {
    "hash": "c3b963de08c47c3b6758389c5e0978ad73698a111eb508d4e16b558edb8f4cbf"
   }
  },
  "widgets": {
   "application/vnd.jupyter.widget-state+json": {
    "state": {},
    "version_major": 2,
    "version_minor": 0
   }
  }
 },
 "nbformat": 4,
 "nbformat_minor": 5
}
